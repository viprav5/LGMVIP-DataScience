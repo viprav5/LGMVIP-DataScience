{
 "cells": [
  {
   "cell_type": "markdown",
   "id": "ecfb1aa1",
   "metadata": {},
   "source": [
    "![](task4.PNG)"
   ]
  },
  {
   "cell_type": "markdown",
   "id": "c0554067",
   "metadata": {},
   "source": [
    "## Task 04"
   ]
  },
  {
   "cell_type": "markdown",
   "id": "c64e38c0",
   "metadata": {},
   "source": [
    "### Importing cv2 (OpenCV) library"
   ]
  },
  {
   "cell_type": "code",
   "execution_count": 1,
   "id": "d28a5365",
   "metadata": {},
   "outputs": [],
   "source": [
    "import cv2"
   ]
  },
  {
   "cell_type": "markdown",
   "id": "9f1b9b8d",
   "metadata": {},
   "source": [
    "### First we will read an image (Original Image)"
   ]
  },
  {
   "cell_type": "code",
   "execution_count": 2,
   "id": "a8e9cc0f",
   "metadata": {},
   "outputs": [],
   "source": [
    "image  = cv2.imread('skull.jpeg')"
   ]
  },
  {
   "cell_type": "code",
   "execution_count": 3,
   "id": "60fab641",
   "metadata": {},
   "outputs": [
    {
     "data": {
      "text/plain": [
       "-1"
      ]
     },
     "execution_count": 3,
     "metadata": {},
     "output_type": "execute_result"
    }
   ],
   "source": [
    "cv2.imshow('Original Image',image)\n",
    "cv2.waitKey(0)"
   ]
  },
  {
   "cell_type": "markdown",
   "id": "ac8e37cd",
   "metadata": {},
   "source": [
    "### Convert the image to grey scale"
   ]
  },
  {
   "cell_type": "code",
   "execution_count": 4,
   "id": "c0739c0b",
   "metadata": {},
   "outputs": [
    {
     "data": {
      "text/plain": [
       "-1"
      ]
     },
     "execution_count": 4,
     "metadata": {},
     "output_type": "execute_result"
    }
   ],
   "source": [
    "gray_img = cv2.cvtColor(image,cv2.COLOR_BGR2GRAY)\n",
    "cv2.imshow('Gray Image',gray_img)\n",
    "cv2.waitKey(0)"
   ]
  },
  {
   "cell_type": "markdown",
   "id": "96220c0c",
   "metadata": {},
   "source": [
    "### Convert the Gray image to Negative or inverted image"
   ]
  },
  {
   "cell_type": "code",
   "execution_count": 5,
   "id": "92a89302",
   "metadata": {},
   "outputs": [
    {
     "data": {
      "text/plain": [
       "-1"
      ]
     },
     "execution_count": 5,
     "metadata": {},
     "output_type": "execute_result"
    }
   ],
   "source": [
    "invert_img = cv2.bitwise_not(gray_img) # 255-gray_img\n",
    "cv2.imshow('Negative Image',invert_img)\n",
    "cv2.waitKey(0)"
   ]
  },
  {
   "cell_type": "markdown",
   "id": "739b9ced",
   "metadata": {},
   "source": [
    "### Convert Inverted image to blurred image"
   ]
  },
  {
   "cell_type": "code",
   "execution_count": 6,
   "id": "2b1d09c3",
   "metadata": {},
   "outputs": [
    {
     "data": {
      "text/plain": [
       "-1"
      ]
     },
     "execution_count": 6,
     "metadata": {},
     "output_type": "execute_result"
    }
   ],
   "source": [
    "blur = cv2.GaussianBlur(invert_img,(21,21),0)\n",
    "cv2.imshow('Blurred Image',blur)\n",
    "cv2.waitKey(0)"
   ]
  },
  {
   "cell_type": "code",
   "execution_count": 7,
   "id": "3a8908dd",
   "metadata": {},
   "outputs": [],
   "source": [
    "invert_blur = cv2.bitwise_not(blur)"
   ]
  },
  {
   "cell_type": "markdown",
   "id": "8ffb2511",
   "metadata": {},
   "source": [
    "### Showing the pencil sketch of image"
   ]
  },
  {
   "cell_type": "code",
   "execution_count": 8,
   "id": "4e796a90",
   "metadata": {},
   "outputs": [
    {
     "data": {
      "text/plain": [
       "-1"
      ]
     },
     "execution_count": 8,
     "metadata": {},
     "output_type": "execute_result"
    }
   ],
   "source": [
    "sketch = cv2.divide(gray_img,invert_blur,scale=220.0)\n",
    "\n",
    "cv2.imshow('Pencil Sketch',sketch)\n",
    "cv2.waitKey(0)"
   ]
  },
  {
   "cell_type": "code",
   "execution_count": 9,
   "id": "725a2cdb",
   "metadata": {},
   "outputs": [
    {
     "data": {
      "text/plain": [
       "True"
      ]
     },
     "execution_count": 9,
     "metadata": {},
     "output_type": "execute_result"
    }
   ],
   "source": [
    "cv2.imwrite('pencil_image.png',sketch)"
   ]
  },
  {
   "cell_type": "code",
   "execution_count": null,
   "id": "c79011b0",
   "metadata": {},
   "outputs": [],
   "source": []
  },
  {
   "cell_type": "code",
   "execution_count": null,
   "id": "dde13283",
   "metadata": {},
   "outputs": [],
   "source": []
  }
 ],
 "metadata": {
  "kernelspec": {
   "display_name": "Python 3 (ipykernel)",
   "language": "python",
   "name": "python3"
  },
  "language_info": {
   "codemirror_mode": {
    "name": "ipython",
    "version": 3
   },
   "file_extension": ".py",
   "mimetype": "text/x-python",
   "name": "python",
   "nbconvert_exporter": "python",
   "pygments_lexer": "ipython3",
   "version": "3.9.6"
  }
 },
 "nbformat": 4,
 "nbformat_minor": 5
}
